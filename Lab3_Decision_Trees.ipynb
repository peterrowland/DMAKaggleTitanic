{
 "cells": [
  {
   "cell_type": "markdown",
   "metadata": {},
   "source": [
    "# Lab 3- Decision Trees"
   ]
  },
  {
   "cell_type": "markdown",
   "metadata": {},
   "source": [
    "This assignment uses a dataset obtained from the JSE Data Archive that aims at identifying whether there is a statistically significant dependence between gender and biological/activity traits in humans. \n",
    "\n",
    "FEATURE DESCRIPTIONS: \n",
    "\n",
    "<ul>\n",
    "<li>Color (Blue, Brown, Green, Hazel, Other)\n",
    "<li>Age (in years)\n",
    "<li>YearinSchool (First, Second, Third, Fourth, Other)\n",
    "<li>Height (in inches)\n",
    "<li>Miles (distance from home town of student to Ames, IA) \n",
    "<li>Brothers (number of brothers)\n",
    "<li>Sisters (number of sisters)\n",
    "<li>CompTime (number of hours spent on computer per week)\n",
    "<li>Exercise (whether the student exercises Yes or No)\n",
    "<li>ExerTime (number of hours spent exercising per week)\n",
    "<li>MusicCDs (number of music CDs student owns)\n",
    "<li>PlayGames (number of hours spent playing games per week)\n",
    "<li>WatchTV (number of hours spent watching TV per week\n",
    "</ul>\n",
    "\n",
    "https://ww2.amstat.org/publications/jse/jse_data_archive.htm"
   ]
  },
  {
   "cell_type": "code",
   "execution_count": 1,
   "metadata": {
    "collapsed": false
   },
   "outputs": [],
   "source": [
    "from __future__ import division\n",
    "from collections import Counter, defaultdict\n",
    "from itertools import combinations \n",
    "import pandas as pd\n",
    "import numpy as np\n",
    "import operator\n",
    "import math\n",
    "import sklearn\n",
    "from sklearn.tree import DecisionTreeClassifier\n",
    "from sklearn.feature_extraction import DictVectorizer #to turn categorial variables into numeric arrays\n",
    "from sklearn import preprocessing #to transform the feature labels"
   ]
  },
  {
   "cell_type": "code",
   "execution_count": 2,
   "metadata": {
    "collapsed": false
   },
   "outputs": [
    {
     "data": {
      "text/html": [
       "<div>\n",
       "<table border=\"1\" class=\"dataframe\">\n",
       "  <thead>\n",
       "    <tr style=\"text-align: right;\">\n",
       "      <th></th>\n",
       "      <th>gender</th>\n",
       "      <th>age</th>\n",
       "      <th>year</th>\n",
       "      <th>eyecolor</th>\n",
       "      <th>height</th>\n",
       "      <th>miles</th>\n",
       "      <th>brothers</th>\n",
       "      <th>sisters</th>\n",
       "      <th>computertime</th>\n",
       "      <th>exercise</th>\n",
       "      <th>exercisehours</th>\n",
       "      <th>musiccds</th>\n",
       "      <th>playgames</th>\n",
       "      <th>watchtv</th>\n",
       "    </tr>\n",
       "  </thead>\n",
       "  <tbody>\n",
       "    <tr>\n",
       "      <th>0</th>\n",
       "      <td>female</td>\n",
       "      <td>18</td>\n",
       "      <td>first</td>\n",
       "      <td>hazel</td>\n",
       "      <td>68.0</td>\n",
       "      <td>195.0</td>\n",
       "      <td>0</td>\n",
       "      <td>1</td>\n",
       "      <td>20.0</td>\n",
       "      <td>Yes</td>\n",
       "      <td>3.0</td>\n",
       "      <td>75.0</td>\n",
       "      <td>6.0</td>\n",
       "      <td>18.0</td>\n",
       "    </tr>\n",
       "    <tr>\n",
       "      <th>1</th>\n",
       "      <td>male</td>\n",
       "      <td>20</td>\n",
       "      <td>third</td>\n",
       "      <td>brown</td>\n",
       "      <td>70.0</td>\n",
       "      <td>120.0</td>\n",
       "      <td>3</td>\n",
       "      <td>0</td>\n",
       "      <td>24.0</td>\n",
       "      <td>No</td>\n",
       "      <td>0.0</td>\n",
       "      <td>50.0</td>\n",
       "      <td>0.0</td>\n",
       "      <td>3.0</td>\n",
       "    </tr>\n",
       "    <tr>\n",
       "      <th>2</th>\n",
       "      <td>female</td>\n",
       "      <td>18</td>\n",
       "      <td>first</td>\n",
       "      <td>green</td>\n",
       "      <td>67.0</td>\n",
       "      <td>200.0</td>\n",
       "      <td>0</td>\n",
       "      <td>1</td>\n",
       "      <td>35.0</td>\n",
       "      <td>Yes</td>\n",
       "      <td>3.0</td>\n",
       "      <td>53.0</td>\n",
       "      <td>8.0</td>\n",
       "      <td>1.0</td>\n",
       "    </tr>\n",
       "    <tr>\n",
       "      <th>3</th>\n",
       "      <td>male</td>\n",
       "      <td>23</td>\n",
       "      <td>fourth</td>\n",
       "      <td>hazel</td>\n",
       "      <td>74.0</td>\n",
       "      <td>140.0</td>\n",
       "      <td>1</td>\n",
       "      <td>1</td>\n",
       "      <td>5.0</td>\n",
       "      <td>Yes</td>\n",
       "      <td>25.0</td>\n",
       "      <td>50.0</td>\n",
       "      <td>0.0</td>\n",
       "      <td>7.0</td>\n",
       "    </tr>\n",
       "    <tr>\n",
       "      <th>4</th>\n",
       "      <td>female</td>\n",
       "      <td>19</td>\n",
       "      <td>second</td>\n",
       "      <td>blue</td>\n",
       "      <td>62.0</td>\n",
       "      <td>60.0</td>\n",
       "      <td>0</td>\n",
       "      <td>1</td>\n",
       "      <td>5.0</td>\n",
       "      <td>Yes</td>\n",
       "      <td>4.0</td>\n",
       "      <td>30.0</td>\n",
       "      <td>2.0</td>\n",
       "      <td>5.0</td>\n",
       "    </tr>\n",
       "  </tbody>\n",
       "</table>\n",
       "</div>"
      ],
      "text/plain": [
       "   gender  age    year eyecolor  height  miles  brothers  sisters  \\\n",
       "0  female   18   first    hazel    68.0  195.0         0        1   \n",
       "1    male   20   third    brown    70.0  120.0         3        0   \n",
       "2  female   18   first    green    67.0  200.0         0        1   \n",
       "3    male   23  fourth    hazel    74.0  140.0         1        1   \n",
       "4  female   19  second     blue    62.0   60.0         0        1   \n",
       "\n",
       "   computertime exercise  exercisehours  musiccds  playgames  watchtv  \n",
       "0          20.0      Yes            3.0      75.0        6.0     18.0  \n",
       "1          24.0       No            0.0      50.0        0.0      3.0  \n",
       "2          35.0      Yes            3.0      53.0        8.0      1.0  \n",
       "3           5.0      Yes           25.0      50.0        0.0      7.0  \n",
       "4           5.0      Yes            4.0      30.0        2.0      5.0  "
      ]
     },
     "execution_count": 2,
     "metadata": {},
     "output_type": "execute_result"
    }
   ],
   "source": [
    "df = pd.read_csv('Eye_Color.csv')\n",
    "\n",
    "df.head()"
   ]
  },
  {
   "cell_type": "code",
   "execution_count": 3,
   "metadata": {
    "collapsed": false
   },
   "outputs": [],
   "source": [
    "df = df.dropna(axis=0, how='any', thresh=None, subset=None, inplace=False)\n",
    "df = df.reset_index(drop=True)"
   ]
  },
  {
   "cell_type": "markdown",
   "metadata": {},
   "source": [
    "# Calculating Gini Index "
   ]
  },
  {
   "cell_type": "markdown",
   "metadata": {},
   "source": [
    "\n",
    "\n",
    "**Question 1: How many rows are there in the dataset for males? For females? **\n",
    "\n"
   ]
  },
  {
   "cell_type": "code",
   "execution_count": 4,
   "metadata": {
    "collapsed": false
   },
   "outputs": [
    {
     "data": {
      "text/plain": [
       "910"
      ]
     },
     "execution_count": 4,
     "metadata": {},
     "output_type": "execute_result"
    }
   ],
   "source": [
    "len(df[df[\"gender\"] == \"male\"])"
   ]
  },
  {
   "cell_type": "code",
   "execution_count": 5,
   "metadata": {
    "collapsed": false
   },
   "outputs": [
    {
     "data": {
      "text/plain": [
       "1078"
      ]
     },
     "execution_count": 5,
     "metadata": {},
     "output_type": "execute_result"
    }
   ],
   "source": [
    "len(df[df[\"gender\"] == \"female\"])"
   ]
  },
  {
   "cell_type": "markdown",
   "metadata": {},
   "source": [
    "**Question 2: What is the Gini Index of this dataset, using males and females as the target classes?**"
   ]
  },
  {
   "cell_type": "markdown",
   "metadata": {},
   "source": [
    "##### Formula Used: Gini(D) = 1 - sum(frac**2 for frac in classes) i.e Sum of the squares of the fraction of items in each class"
   ]
  },
  {
   "cell_type": "code",
   "execution_count": 6,
   "metadata": {
    "collapsed": false
   },
   "outputs": [
    {
     "data": {
      "text/plain": [
       "0.4964292799047807"
      ]
     },
     "execution_count": 6,
     "metadata": {},
     "output_type": "execute_result"
    }
   ],
   "source": [
    "1 - ((math.pow(len(df[df[\"gender\"] == \"male\"])/len(df),2) + math.pow(len(df[df[\"gender\"] == \"female\"])/len(df),2)))"
   ]
  },
  {
   "cell_type": "markdown",
   "metadata": {},
   "source": [
    "Gini index using males and females as target classes is 0.4964292799047807"
   ]
  },
  {
   "cell_type": "markdown",
   "metadata": {},
   "source": [
    "## Best Split of a Numeric Feature"
   ]
  },
  {
   "cell_type": "markdown",
   "metadata": {},
   "source": [
    "**Question 3: What is the best split point of the 'height' feature. **"
   ]
  },
  {
   "cell_type": "code",
   "execution_count": 7,
   "metadata": {
    "collapsed": false
   },
   "outputs": [
    {
     "name": "stderr",
     "output_type": "stream",
     "text": [
      "/Users/rohitraghavan/anaconda/lib/python3.5/site-packages/ipykernel/__main__.py:1: FutureWarning: sort(columns=....) is deprecated, use sort_values(by=.....)\n",
      "  if __name__ == '__main__':\n"
     ]
    }
   ],
   "source": [
    "df.sort(\"height\", inplace=True)\n",
    "df = df.reset_index(drop=True)"
   ]
  },
  {
   "cell_type": "code",
   "execution_count": 8,
   "metadata": {
    "collapsed": false
   },
   "outputs": [
    {
     "name": "stdout",
     "output_type": "stream",
     "text": [
      "0.2655288120702919 68.5\n"
     ]
    }
   ],
   "source": [
    "best_gini_idx = 1\n",
    "best_ht_split = 0\n",
    "heights_list = list(set(df[\"height\"]))\n",
    "for i in range(1, len(heights_list)):\n",
    "    height1 = heights_list[i-1]\n",
    "    height2 = heights_list[i]\n",
    "    split_point_height = (height1 + height2)/2\n",
    "    left_split_df = df[df[\"height\"] <= split_point_height]\n",
    "    right_split_df = df[df[\"height\"] > split_point_height]\n",
    "    left_gini_idx = 1 - ((math.pow(len(left_split_df[left_split_df[\"gender\"] == \"male\"])/len(left_split_df),2) + math.pow(len(left_split_df[left_split_df[\"gender\"] == \"female\"])/len(left_split_df),2)))\n",
    "    right_gini_idx = 1 - ((math.pow(len(right_split_df[right_split_df[\"gender\"] == \"male\"])/len(right_split_df),2) + math.pow(len(right_split_df[right_split_df[\"gender\"] == \"female\"])/len(right_split_df),2)))\n",
    "    avg_gini_idx = ((len(left_split_df)/len(df))*left_gini_idx) + ((len(right_split_df)/len(df))*right_gini_idx)\n",
    "    if best_gini_idx > avg_gini_idx:\n",
    "        best_gini_idx = avg_gini_idx\n",
    "        best_ht_split = split_point_height\n",
    "print(best_gini_idx, best_ht_split)\n",
    "    "
   ]
  },
  {
   "cell_type": "markdown",
   "metadata": {},
   "source": [
    "Best split point for height is 68.5 inches"
   ]
  },
  {
   "cell_type": "markdown",
   "metadata": {},
   "source": [
    "**Question 4: What is the Gini Index of this best split?**"
   ]
  },
  {
   "cell_type": "markdown",
   "metadata": {},
   "source": [
    "Gini index of best split point is 0.2655288120702919"
   ]
  },
  {
   "cell_type": "markdown",
   "metadata": {},
   "source": [
    "**Question 5: How much does this partitioning reduce the Gini Index over that of the overall dataset?**"
   ]
  },
  {
   "cell_type": "code",
   "execution_count": 9,
   "metadata": {
    "collapsed": false
   },
   "outputs": [
    {
     "data": {
      "text/plain": [
       "0.2309004678344888"
      ]
     },
     "execution_count": 9,
     "metadata": {},
     "output_type": "execute_result"
    }
   ],
   "source": [
    "0.4964292799047807 - 0.2655288120702919"
   ]
  },
  {
   "cell_type": "markdown",
   "metadata": {},
   "source": [
    "This partitioning reduces the Gini index by 0.2309004678344888"
   ]
  },
  {
   "cell_type": "markdown",
   "metadata": {},
   "source": [
    "**Question 6: How many 'female' rows are below your best split point? 'male' rows?**"
   ]
  },
  {
   "cell_type": "code",
   "execution_count": 10,
   "metadata": {
    "collapsed": false
   },
   "outputs": [
    {
     "name": "stdout",
     "output_type": "stream",
     "text": [
      "905 142\n"
     ]
    }
   ],
   "source": [
    "left_split_df = df[df[\"height\"] <= 68.5]\n",
    "print(len(left_split_df[left_split_df[\"gender\"] == \"female\"]),len(left_split_df[left_split_df[\"gender\"] == \"male\"]))"
   ]
  },
  {
   "cell_type": "markdown",
   "metadata": {},
   "source": [
    "There are 905 females and 142 males below the best split point."
   ]
  },
  {
   "cell_type": "markdown",
   "metadata": {},
   "source": [
    "**Question 7: How many 'female' rows are above your best split point? 'male' rows?**"
   ]
  },
  {
   "cell_type": "code",
   "execution_count": 11,
   "metadata": {
    "collapsed": false
   },
   "outputs": [
    {
     "name": "stdout",
     "output_type": "stream",
     "text": [
      "173 768\n"
     ]
    }
   ],
   "source": [
    "right_split_df = df[df[\"height\"] > 68.5]\n",
    "print(len(right_split_df[right_split_df[\"gender\"] == \"female\"]),len(right_split_df[right_split_df[\"gender\"] == \"male\"]))"
   ]
  },
  {
   "cell_type": "markdown",
   "metadata": {},
   "source": [
    "There are 173 females and 768 males above the best split point."
   ]
  },
  {
   "cell_type": "markdown",
   "metadata": {},
   "source": [
    "Recall that, to calculate the best split of this numeric field, you'll need to order your data by 'height', then consider the midpoint between each pair of consecutive heights as a potential split point, then calculate the Gini Index for that partitioning. You'll want to keep track of the best split point and its Gini Index (remember that you are trying to minimize the Gini Index). \n",
    "\n",
    "There are a lot of ways to do this. Some are very fast, others very slow. One tip to make this run quickly is, as you consecutively step through the data and calculate the Gini Index of each possible split point, keep a running total of the number of rows for each candidate that are located above and below the split point. \n",
    "\n",
    "Some Python tips: \n",
    "\n",
    "* Counter(), from the collections module, is a special dictionary for counting values of a key\n",
    "* zip() lets you concatenate lists into a list of tuples (for example, if we have a list of the candidates and a list of transaction amounts, zip(candidate_list, transaction_amount) would give us a list of (candidate, transaction amount) pairs"
   ]
  },
  {
   "cell_type": "markdown",
   "metadata": {},
   "source": [
    "## Best Split of a Categorial Variable"
   ]
  },
  {
   "cell_type": "markdown",
   "metadata": {},
   "source": [
    "**Question 8: How many possible splits are there of the eyecolor feature?**"
   ]
  },
  {
   "cell_type": "code",
   "execution_count": 20,
   "metadata": {
    "collapsed": false
   },
   "outputs": [
    {
     "data": {
      "text/plain": [
       "15.0"
      ]
     },
     "execution_count": 20,
     "metadata": {},
     "output_type": "execute_result"
    }
   ],
   "source": [
    "eye_color = set(df.eyecolor)\n",
    "eye_color_sets = []\n",
    "for set_length in range(1,len(eye_color)):\n",
    "    eye_color_sets.extend([sets for sets in combinations(eye_color, set_length)])\n",
    "len(eye_color_sets)/2\n"
   ]
  },
  {
   "cell_type": "markdown",
   "metadata": {},
   "source": [
    "There are 15 possible splits of eyecolor feature"
   ]
  },
  {
   "cell_type": "markdown",
   "metadata": {},
   "source": [
    "**Question 9: Which split of eyecolor best splits the female and male rows, as measured by the Gini Index?**"
   ]
  },
  {
   "cell_type": "code",
   "execution_count": 13,
   "metadata": {
    "collapsed": false,
    "scrolled": true
   },
   "outputs": [
    {
     "name": "stdout",
     "output_type": "stream",
     "text": [
      "0.4930915729509777 ('green',)\n"
     ]
    }
   ],
   "source": [
    "best_gini_idx = 1\n",
    "best_eyecolor_split = []\n",
    "for eye_color_set in eye_color_sets:\n",
    "    left_split_df = df[df[\"eyecolor\"].isin(eye_color_set)]\n",
    "    right_split_df = df[~df[\"eyecolor\"].isin(eye_color_set)]\n",
    "    left_gini_idx = 1 - ((math.pow(len(left_split_df[left_split_df[\"gender\"] == \"male\"])/len(left_split_df),2) + math.pow(len(left_split_df[left_split_df[\"gender\"] == \"female\"])/len(left_split_df),2)))\n",
    "    right_gini_idx = 1 - ((math.pow(len(right_split_df[right_split_df[\"gender\"] == \"male\"])/len(right_split_df),2) + math.pow(len(right_split_df[right_split_df[\"gender\"] == \"female\"])/len(right_split_df),2)))\n",
    "    avg_gini_idx = ((len(left_split_df)/len(df))*left_gini_idx) + ((len(right_split_df)/len(df))*right_gini_idx)\n",
    "    if best_gini_idx > avg_gini_idx:\n",
    "        best_gini_idx = avg_gini_idx\n",
    "        best_eyecolor_split = eye_color_set\n",
    "print(best_gini_idx, best_eyecolor_split)"
   ]
  },
  {
   "cell_type": "markdown",
   "metadata": {},
   "source": [
    "**Question 10: What is the Gini Index of this best split?**"
   ]
  },
  {
   "cell_type": "markdown",
   "metadata": {},
   "source": [
    "The gini index of the best split is 0.4930915729509777"
   ]
  },
  {
   "cell_type": "markdown",
   "metadata": {},
   "source": [
    "**Question 11: How much does this partitioning reduce the Gini Index over that of the overall data set?**"
   ]
  },
  {
   "cell_type": "code",
   "execution_count": 14,
   "metadata": {
    "collapsed": false
   },
   "outputs": [
    {
     "data": {
      "text/plain": [
       "0.003337706953802977"
      ]
     },
     "execution_count": 14,
     "metadata": {},
     "output_type": "execute_result"
    }
   ],
   "source": [
    "0.4964292799047807 - 0.4930915729509777"
   ]
  },
  {
   "cell_type": "markdown",
   "metadata": {},
   "source": [
    "This partitioning reduces the Gini index by 0.003337706953802977"
   ]
  },
  {
   "cell_type": "markdown",
   "metadata": {},
   "source": [
    "**Question 12: How many 'female' rows and 'male' rows are in your first partition? How many 'female' rows and 'male' rows are in your second partition?**"
   ]
  },
  {
   "cell_type": "code",
   "execution_count": 15,
   "metadata": {
    "collapsed": false
   },
   "outputs": [
    {
     "name": "stdout",
     "output_type": "stream",
     "text": [
      "190 107\n",
      "888 803\n"
     ]
    }
   ],
   "source": [
    "left_split_df = df[df[\"eyecolor\"].isin(best_eyecolor_split)]\n",
    "right_split_df = df[~df[\"eyecolor\"].isin(best_eyecolor_split)]\n",
    "print(len(left_split_df[left_split_df[\"gender\"] == \"female\"]),len(left_split_df[left_split_df[\"gender\"] == \"male\"]))\n",
    "print(len(right_split_df[right_split_df[\"gender\"] == \"female\"]),len(right_split_df[right_split_df[\"gender\"] == \"male\"]))"
   ]
  },
  {
   "cell_type": "markdown",
   "metadata": {},
   "source": [
    "In the first partition, there are 190 females and 107 males.\n",
    "In the second partition, there are 888 females and 803 males."
   ]
  },
  {
   "cell_type": "markdown",
   "metadata": {},
   "source": [
    "Python tip: the combinations function of the itertools module allows you to enumerate combinations of a list"
   ]
  },
  {
   "cell_type": "markdown",
   "metadata": {},
   "source": [
    "## Training a decision tree"
   ]
  },
  {
   "cell_type": "markdown",
   "metadata": {},
   "source": [
    "**Question 13: Using all of the features in the original dataframe read in at the top of this notebook, train a decision tree classifier that has a depth of three (including the root node and leaf nodes). What is the accuracy of this classifier on the training data?**"
   ]
  },
  {
   "cell_type": "code",
   "execution_count": 16,
   "metadata": {
    "collapsed": false
   },
   "outputs": [],
   "source": [
    "vec = DictVectorizer()\n",
    "df_num = vec.fit_transform(df.iloc[:,1:].to_dict('records')).toarray()\n",
    "le = preprocessing.LabelEncoder()\n",
    "le.fit([\"male\",\"female\"])\n",
    "target = le.transform(df.gender)"
   ]
  },
  {
   "cell_type": "code",
   "execution_count": 17,
   "metadata": {
    "collapsed": false
   },
   "outputs": [
    {
     "data": {
      "text/plain": [
       "DecisionTreeClassifier(class_weight=None, criterion='gini', max_depth=2,\n",
       "            max_features=None, max_leaf_nodes=None,\n",
       "            min_impurity_split=1e-07, min_samples_leaf=1,\n",
       "            min_samples_split=2, min_weight_fraction_leaf=0.0,\n",
       "            presort=False, random_state=None, splitter='best')"
      ]
     },
     "execution_count": 17,
     "metadata": {},
     "output_type": "execute_result"
    }
   ],
   "source": [
    "dt = DecisionTreeClassifier(max_depth=2)\n",
    "dt.fit(df_num, target)\n"
   ]
  },
  {
   "cell_type": "code",
   "execution_count": 18,
   "metadata": {
    "collapsed": false
   },
   "outputs": [
    {
     "data": {
      "text/plain": [
       "0.84507042253521125"
      ]
     },
     "execution_count": 18,
     "metadata": {},
     "output_type": "execute_result"
    }
   ],
   "source": [
    "dt.score(df_num, target)"
   ]
  },
  {
   "cell_type": "markdown",
   "metadata": {},
   "source": [
    "The accuracy of the classifier on the training data is 84.5%"
   ]
  },
  {
   "cell_type": "markdown",
   "metadata": {},
   "source": [
    "**Question 14: Using the following code snippet, export your decision tree to graphviz and visualize it. In your write-up, write down the interpretation of the rule at each node which is used to perform the splitting.**"
   ]
  },
  {
   "cell_type": "code",
   "execution_count": 19,
   "metadata": {
    "collapsed": false
   },
   "outputs": [
    {
     "data": {
      "image/png": "[encoded data removed]",
      "text/plain": [
       "<IPython.core.display.Image object>"
      ]
     },
     "execution_count": 19,
     "metadata": {},
     "output_type": "execute_result"
    }
   ],
   "source": [
    "from IPython.display import Image  \n",
    "import pydotplus \n",
    "dot_data = sklearn.tree.export_graphviz(dt, out_file=None,feature_names=vec.feature_names_,class_names=['female','male'],filled=True, rounded=True,special_characters=True) \n",
    "graph = pydotplus.graph_from_dot_data(dot_data) \n",
    "graph.write_pdf('name.pdf')\n",
    "Image(graph.create_png())"
   ]
  },
  {
   "cell_type": "markdown",
   "metadata": {},
   "source": [
    "At the root node, the split is on height <= 68.5.\n",
    "At the 2nd level left node, the split is on playgames <= 7.75\n",
    "At the 2nd level right node, the split is on height <= 70.5"
   ]
  },
  {
   "cell_type": "markdown",
   "metadata": {},
   "source": [
    "**Question 15: For each of your leaf nodes, specify the percentage of 'female' rows in that node (out of the total number of rows at that node).**"
   ]
  },
  {
   "cell_type": "markdown",
   "metadata": {},
   "source": [
    "(From left to right)\n",
    "Leaf Node1: 871/972*100 = 89.6%\n",
    "Leaf Node 2: 34/75*100 = 45.3%\n",
    "Leaf Node 3: 123/329*100 = 37.4%\n",
    "Leaf Node 4: 50/612*100 = 8.2%"
   ]
  },
  {
   "cell_type": "markdown",
   "metadata": {},
   "source": [
    "See this notebook for the basics of training a decision tree in scikit-learn and exporting the outputs to view in graphviz: http://nbviewer.ipython.org/gist/tebarkley/b68c04d9b31e64ce6023\n",
    "\n",
    "Scikit-learn classifiers require class labels and features to be in numeric arrays. As such, you will need to turn your categorical features into numeric arrays using DictVectorizer. This is a helpful notebook for understanding how to do this: http://nbviewer.ipython.org/gist/sarguido/7423289. You can turn a pandas dataframe of features into a dictionary of the form needed by DictVectorizer by using df.to_dict('records'). Make sure you remove the class label first (in this case, gender). If you use the class label as a feature, your classifier will have a training accuracy of 100%! The example notebook link also shows how to turn your class labels into a numeric array using sklearn.preprocessing.LabelEncoder()."
   ]
  }
 ],
 "metadata": {
  "anaconda-cloud": {},
  "gist_id": "0945553f802dad1bfa88",
  "kernelspec": {
   "display_name": "Python [conda root]",
   "language": "python",
   "name": "conda-root-py"
  },
  "language_info": {
   "codemirror_mode": {
    "name": "ipython",
    "version": 3
   },
   "file_extension": ".py",
   "mimetype": "text/x-python",
   "name": "python",
   "nbconvert_exporter": "python",
   "pygments_lexer": "ipython3",
   "version": "3.5.2"
  }
 },
 "nbformat": 4,
 "nbformat_minor": 0
}
