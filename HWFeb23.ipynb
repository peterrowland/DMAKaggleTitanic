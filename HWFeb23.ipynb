{
 "cells": [
  {
   "cell_type": "code",
   "execution_count": 1,
   "metadata": {
    "collapsed": false
   },
   "outputs": [],
   "source": [
    "import pandas as pd\n",
    "import numpy as np\n",
    "from sklearn.neural_network import MLPClassifier\n",
    "from sklearn import svm\n",
    "from sklearn import preprocessing #to transform the feature labels\n",
    "from sklearn.feature_extraction import DictVectorizer #to turn categorial variables into numeric arrays\n",
    "from sklearn.model_selection import train_test_split\n",
    "from sklearn.model_selection import cross_val_score"
   ]
  },
  {
   "cell_type": "code",
   "execution_count": 2,
   "metadata": {
    "collapsed": false
   },
   "outputs": [
    {
     "data": {
      "text/html": [
       "<div>\n",
       "<table border=\"1\" class=\"dataframe\">\n",
       "  <thead>\n",
       "    <tr style=\"text-align: right;\">\n",
       "      <th></th>\n",
       "      <th>Unnamed: 0</th>\n",
       "      <th>gender</th>\n",
       "      <th>age</th>\n",
       "      <th>year</th>\n",
       "      <th>eyecolor</th>\n",
       "      <th>height</th>\n",
       "      <th>miles</th>\n",
       "      <th>brothers</th>\n",
       "      <th>sisters</th>\n",
       "      <th>computertime</th>\n",
       "      <th>exercise</th>\n",
       "      <th>exercisehours</th>\n",
       "      <th>musiccds</th>\n",
       "      <th>playgames</th>\n",
       "      <th>watchtv</th>\n",
       "    </tr>\n",
       "  </thead>\n",
       "  <tbody>\n",
       "    <tr>\n",
       "      <th>0</th>\n",
       "      <td>1303</td>\n",
       "      <td>male</td>\n",
       "      <td>20</td>\n",
       "      <td>second</td>\n",
       "      <td>green</td>\n",
       "      <td>73</td>\n",
       "      <td>210.0</td>\n",
       "      <td>0</td>\n",
       "      <td>1</td>\n",
       "      <td>10.0</td>\n",
       "      <td>Yes</td>\n",
       "      <td>5.0</td>\n",
       "      <td>50</td>\n",
       "      <td>1.0</td>\n",
       "      <td>15.0</td>\n",
       "    </tr>\n",
       "    <tr>\n",
       "      <th>1</th>\n",
       "      <td>36</td>\n",
       "      <td>male</td>\n",
       "      <td>20</td>\n",
       "      <td>third</td>\n",
       "      <td>other</td>\n",
       "      <td>71</td>\n",
       "      <td>90.0</td>\n",
       "      <td>1</td>\n",
       "      <td>0</td>\n",
       "      <td>15.0</td>\n",
       "      <td>Yes</td>\n",
       "      <td>4.0</td>\n",
       "      <td>10</td>\n",
       "      <td>0.0</td>\n",
       "      <td>1.0</td>\n",
       "    </tr>\n",
       "    <tr>\n",
       "      <th>2</th>\n",
       "      <td>489</td>\n",
       "      <td>male</td>\n",
       "      <td>22</td>\n",
       "      <td>fourth</td>\n",
       "      <td>hazel</td>\n",
       "      <td>75</td>\n",
       "      <td>200.0</td>\n",
       "      <td>0</td>\n",
       "      <td>1</td>\n",
       "      <td>1.0</td>\n",
       "      <td>Yes</td>\n",
       "      <td>2.0</td>\n",
       "      <td>150</td>\n",
       "      <td>1.0</td>\n",
       "      <td>10.0</td>\n",
       "    </tr>\n",
       "    <tr>\n",
       "      <th>3</th>\n",
       "      <td>1415</td>\n",
       "      <td>male</td>\n",
       "      <td>19</td>\n",
       "      <td>second</td>\n",
       "      <td>brown</td>\n",
       "      <td>72</td>\n",
       "      <td>35.0</td>\n",
       "      <td>2</td>\n",
       "      <td>2</td>\n",
       "      <td>20.0</td>\n",
       "      <td>Yes</td>\n",
       "      <td>5.0</td>\n",
       "      <td>100</td>\n",
       "      <td>0.0</td>\n",
       "      <td>7.0</td>\n",
       "    </tr>\n",
       "    <tr>\n",
       "      <th>4</th>\n",
       "      <td>616</td>\n",
       "      <td>male</td>\n",
       "      <td>22</td>\n",
       "      <td>fourth</td>\n",
       "      <td>hazel</td>\n",
       "      <td>71</td>\n",
       "      <td>15.0</td>\n",
       "      <td>2</td>\n",
       "      <td>1</td>\n",
       "      <td>10.0</td>\n",
       "      <td>Yes</td>\n",
       "      <td>7.0</td>\n",
       "      <td>10</td>\n",
       "      <td>0.0</td>\n",
       "      <td>5.0</td>\n",
       "    </tr>\n",
       "  </tbody>\n",
       "</table>\n",
       "</div>"
      ],
      "text/plain": [
       "   Unnamed: 0 gender  age    year eyecolor  height  miles  brothers  sisters  \\\n",
       "0        1303   male   20  second    green      73  210.0         0        1   \n",
       "1          36   male   20   third    other      71   90.0         1        0   \n",
       "2         489   male   22  fourth    hazel      75  200.0         0        1   \n",
       "3        1415   male   19  second    brown      72   35.0         2        2   \n",
       "4         616   male   22  fourth    hazel      71   15.0         2        1   \n",
       "\n",
       "   computertime exercise  exercisehours  musiccds  playgames  watchtv  \n",
       "0          10.0      Yes            5.0        50        1.0     15.0  \n",
       "1          15.0      Yes            4.0        10        0.0      1.0  \n",
       "2           1.0      Yes            2.0       150        1.0     10.0  \n",
       "3          20.0      Yes            5.0       100        0.0      7.0  \n",
       "4          10.0      Yes            7.0        10        0.0      5.0  "
      ]
     },
     "execution_count": 2,
     "metadata": {},
     "output_type": "execute_result"
    }
   ],
   "source": [
    "train_set = pd.read_csv(\"lab_4_training.csv\")\n",
    "test_set = pd.read_csv(\"lab_4_test.csv\")\n",
    "train_set.head()"
   ]
  },
  {
   "cell_type": "markdown",
   "metadata": {},
   "source": [
    "### 1. Calculate a baseline accuracy measure using the majority class\n",
    "### a. Find the majority class in the training set. If you always predicted this class in the training set, what would your accuracy be?"
   ]
  },
  {
   "cell_type": "code",
   "execution_count": 3,
   "metadata": {
    "collapsed": false
   },
   "outputs": [
    {
     "data": {
      "text/plain": [
       "53.77358490566038"
      ]
     },
     "execution_count": 3,
     "metadata": {},
     "output_type": "execute_result"
    }
   ],
   "source": [
    "len(train_set[train_set[\"gender\"] == \"female\"])/len(train_set) * 100"
   ]
  },
  {
   "cell_type": "code",
   "execution_count": 4,
   "metadata": {
    "collapsed": false,
    "scrolled": true
   },
   "outputs": [
    {
     "data": {
      "text/plain": [
       "46.22641509433962"
      ]
     },
     "execution_count": 4,
     "metadata": {},
     "output_type": "execute_result"
    }
   ],
   "source": [
    "len(train_set[train_set[\"gender\"] == \"male\"])/len(train_set) * 100"
   ]
  },
  {
   "cell_type": "markdown",
   "metadata": {},
   "source": [
    "The majority class is 'female'. If we always predicted this class in the traning set, the accuracy would be 53.77%"
   ]
  },
  {
   "cell_type": "markdown",
   "metadata": {},
   "source": [
    "### b. If you always predicted this same class (majority from the training set) in the test set, what would your accuracy be?"
   ]
  },
  {
   "cell_type": "code",
   "execution_count": 5,
   "metadata": {
    "collapsed": false
   },
   "outputs": [
    {
     "data": {
      "text/plain": [
       "52.26130653266332"
      ]
     },
     "execution_count": 5,
     "metadata": {},
     "output_type": "execute_result"
    }
   ],
   "source": [
    "len(test_set[test_set[\"gender\"] == \"female\"])/len(test_set) * 100"
   ]
  },
  {
   "cell_type": "markdown",
   "metadata": {},
   "source": [
    "If we always predicted 'female', the accuracy in the test set would be 52.26%"
   ]
  },
  {
   "cell_type": "markdown",
   "metadata": {},
   "source": [
    "### 2. Get started with Neural Networks\n",
    "### a. Choose a NN implementation and specify which you choose. Be sure the implementation allows you to modify the number of hidden layers and hidden nodes per layer."
   ]
  },
  {
   "cell_type": "markdown",
   "metadata": {},
   "source": [
    "sklearn.neural_network.MLPClassifier"
   ]
  },
  {
   "cell_type": "markdown",
   "metadata": {},
   "source": [
    "### b. Train a neural network with a single 10 node hidden layer. Only use the Height feature of the dataset to predict the Gender. You will have to change Gender to a 0 and 1 class. After training, use your trained model to predict the class using the height feature from the training set. What was the accuracy of this prediction?"
   ]
  },
  {
   "cell_type": "code",
   "execution_count": 6,
   "metadata": {
    "collapsed": false
   },
   "outputs": [
    {
     "name": "stderr",
     "output_type": "stream",
     "text": [
      "/Users/rohitraghavan/anaconda/lib/python3.5/site-packages/numpy/core/fromnumeric.py:224: FutureWarning: reshape is deprecated and will raise in a subsequent release. Please use .values.reshape(...) instead\n",
      "  return reshape(newshape, order=order)\n"
     ]
    }
   ],
   "source": [
    "le = preprocessing.LabelEncoder()\n",
    "le.fit([\"male\",\"female\"])\n",
    "target = le.transform(train_set.gender)\n",
    "train_set_ht_np = np.reshape(train_set.height, (1590,1))"
   ]
  },
  {
   "cell_type": "code",
   "execution_count": 7,
   "metadata": {
    "collapsed": false
   },
   "outputs": [
    {
     "data": {
      "text/plain": [
       "MLPClassifier(activation='logistic', alpha=0.0001, batch_size='auto',\n",
       "       beta_1=0.9, beta_2=0.999, early_stopping=False, epsilon=1e-08,\n",
       "       hidden_layer_sizes=(10,), learning_rate='constant',\n",
       "       learning_rate_init=0.001, max_iter=200, momentum=0.9,\n",
       "       nesterovs_momentum=True, power_t=0.5, random_state=None,\n",
       "       shuffle=True, solver='lbfgs', tol=0.0001, validation_fraction=0.1,\n",
       "       verbose=False, warm_start=False)"
      ]
     },
     "execution_count": 7,
     "metadata": {},
     "output_type": "execute_result"
    }
   ],
   "source": [
    "clf = MLPClassifier(solver='lbfgs', activation='logistic', hidden_layer_sizes=(10,))\n",
    "clf.fit(train_set_ht_np, target)"
   ]
  },
  {
   "cell_type": "code",
   "execution_count": 8,
   "metadata": {
    "collapsed": false
   },
   "outputs": [
    {
     "data": {
      "text/plain": [
       "0.53773584905660377"
      ]
     },
     "execution_count": 8,
     "metadata": {},
     "output_type": "execute_result"
    }
   ],
   "source": [
    "clf.score(train_set_ht_np, target)"
   ]
  },
  {
   "cell_type": "markdown",
   "metadata": {},
   "source": [
    "The accuracy is 84.65%"
   ]
  },
  {
   "cell_type": "markdown",
   "metadata": {},
   "source": [
    "### c. Take the trained model from question 2.b and use it to predict the test set. This can be accomplished by taking the trained model and giving it the Height feature values from the test set. What is the accuracy of this model on the test set?"
   ]
  },
  {
   "cell_type": "code",
   "execution_count": 9,
   "metadata": {
    "collapsed": false
   },
   "outputs": [
    {
     "name": "stderr",
     "output_type": "stream",
     "text": [
      "/Users/rohitraghavan/anaconda/lib/python3.5/site-packages/numpy/core/fromnumeric.py:224: FutureWarning: reshape is deprecated and will raise in a subsequent release. Please use .values.reshape(...) instead\n",
      "  return reshape(newshape, order=order)\n"
     ]
    }
   ],
   "source": [
    "test_set_ht_np = np.reshape(test_set.height, (398,1))\n",
    "test_target = le.transform(test_set.gender)"
   ]
  },
  {
   "cell_type": "code",
   "execution_count": 10,
   "metadata": {
    "collapsed": false
   },
   "outputs": [
    {
     "data": {
      "text/plain": [
       "0.52261306532663321"
      ]
     },
     "execution_count": 10,
     "metadata": {},
     "output_type": "execute_result"
    }
   ],
   "source": [
    "clf.score(test_set_ht_np, test_target)"
   ]
  },
  {
   "cell_type": "markdown",
   "metadata": {},
   "source": [
    "The accuracy is 85.43%"
   ]
  },
  {
   "cell_type": "markdown",
   "metadata": {},
   "source": [
    "### d. Neural Networks tend to prefer smaller, normalized feature values. Try taking the log of the height feature in both training and testing sets or use a Standard Scalar operation in SKlearn to centre and normalize the data between 0-1 for continuous values. Repeat question 2.c with the log version and the normalized and centered version of this feature"
   ]
  },
  {
   "cell_type": "code",
   "execution_count": 11,
   "metadata": {
    "collapsed": false
   },
   "outputs": [
    {
     "name": "stderr",
     "output_type": "stream",
     "text": [
      "/Users/rohitraghavan/anaconda/lib/python3.5/site-packages/ipykernel/__main__.py:2: FutureWarning: reshape is deprecated and will raise in a subsequent release. Please use .values.reshape(...) instead\n",
      "  from ipykernel import kernelapp as app\n",
      "/Users/rohitraghavan/anaconda/lib/python3.5/site-packages/sklearn/utils/validation.py:429: DataConversionWarning: Data with input dtype int64 was converted to float64 by MinMaxScaler.\n",
      "  warnings.warn(msg, _DataConversionWarning)\n",
      "/Users/rohitraghavan/anaconda/lib/python3.5/site-packages/ipykernel/__main__.py:3: FutureWarning: reshape is deprecated and will raise in a subsequent release. Please use .values.reshape(...) instead\n",
      "  app.launch_new_instance()\n"
     ]
    }
   ],
   "source": [
    "min_max_scaler = preprocessing.MinMaxScaler()\n",
    "train_set_ht_scaler = min_max_scaler.fit_transform(train_set.height.reshape(1590,1))\n",
    "test_set_ht_scaler = min_max_scaler.transform(test_set.height.reshape(398,1))"
   ]
  },
  {
   "cell_type": "code",
   "execution_count": 12,
   "metadata": {
    "collapsed": false
   },
   "outputs": [
    {
     "data": {
      "text/plain": [
       "MLPClassifier(activation='logistic', alpha=0.0001, batch_size='auto',\n",
       "       beta_1=0.9, beta_2=0.999, early_stopping=False, epsilon=1e-08,\n",
       "       hidden_layer_sizes=(10,), learning_rate='constant',\n",
       "       learning_rate_init=0.001, max_iter=200, momentum=0.9,\n",
       "       nesterovs_momentum=True, power_t=0.5, random_state=None,\n",
       "       shuffle=True, solver='lbfgs', tol=0.0001, validation_fraction=0.1,\n",
       "       verbose=False, warm_start=False)"
      ]
     },
     "execution_count": 12,
     "metadata": {},
     "output_type": "execute_result"
    }
   ],
   "source": [
    "clf_scaler = MLPClassifier(solver='lbfgs', activation='logistic', hidden_layer_sizes=(10,))\n",
    "clf_scaler.fit(train_set_ht_scaler, target)"
   ]
  },
  {
   "cell_type": "code",
   "execution_count": 13,
   "metadata": {
    "collapsed": false
   },
   "outputs": [
    {
     "data": {
      "text/plain": [
       "0.84654088050314469"
      ]
     },
     "execution_count": 13,
     "metadata": {},
     "output_type": "execute_result"
    }
   ],
   "source": [
    "clf_scaler.score(train_set_ht_scaler, target)"
   ]
  },
  {
   "cell_type": "code",
   "execution_count": 14,
   "metadata": {
    "collapsed": false
   },
   "outputs": [
    {
     "data": {
      "text/plain": [
       "0.85427135678391963"
      ]
     },
     "execution_count": 14,
     "metadata": {},
     "output_type": "execute_result"
    }
   ],
   "source": [
    "clf_scaler.score(test_set_ht_scaler, test_target)"
   ]
  },
  {
   "cell_type": "markdown",
   "metadata": {},
   "source": [
    "Normalizing the values to be between 0 - 1 didnt lead to any imporvement in accuracy (train = 84.65%, test = 85.43%)"
   ]
  },
  {
   "cell_type": "code",
   "execution_count": 15,
   "metadata": {
    "collapsed": false
   },
   "outputs": [
    {
     "name": "stderr",
     "output_type": "stream",
     "text": [
      "/Users/rohitraghavan/anaconda/lib/python3.5/site-packages/ipykernel/__main__.py:1: FutureWarning: reshape is deprecated and will raise in a subsequent release. Please use .values.reshape(...) instead\n",
      "  if __name__ == '__main__':\n",
      "/Users/rohitraghavan/anaconda/lib/python3.5/site-packages/ipykernel/__main__.py:2: FutureWarning: reshape is deprecated and will raise in a subsequent release. Please use .values.reshape(...) instead\n",
      "  from ipykernel import kernelapp as app\n"
     ]
    }
   ],
   "source": [
    "train_set_ht_log = np.log10(train_set.height.reshape(1590,1))\n",
    "test_set_ht_log = np.log10(test_set.height.reshape(398,1))"
   ]
  },
  {
   "cell_type": "code",
   "execution_count": 16,
   "metadata": {
    "collapsed": false
   },
   "outputs": [
    {
     "data": {
      "text/plain": [
       "MLPClassifier(activation='logistic', alpha=0.0001, batch_size='auto',\n",
       "       beta_1=0.9, beta_2=0.999, early_stopping=False, epsilon=1e-08,\n",
       "       hidden_layer_sizes=(10,), learning_rate='constant',\n",
       "       learning_rate_init=0.001, max_iter=200, momentum=0.9,\n",
       "       nesterovs_momentum=True, power_t=0.5, random_state=None,\n",
       "       shuffle=True, solver='lbfgs', tol=0.0001, validation_fraction=0.1,\n",
       "       verbose=False, warm_start=False)"
      ]
     },
     "execution_count": 16,
     "metadata": {},
     "output_type": "execute_result"
    }
   ],
   "source": [
    "clf_log = MLPClassifier(solver='lbfgs', activation='logistic', hidden_layer_sizes=(10,))\n",
    "clf_log.fit(train_set_ht_log, target)"
   ]
  },
  {
   "cell_type": "code",
   "execution_count": 17,
   "metadata": {
    "collapsed": false
   },
   "outputs": [
    {
     "data": {
      "text/plain": [
       "0.84654088050314469"
      ]
     },
     "execution_count": 17,
     "metadata": {},
     "output_type": "execute_result"
    }
   ],
   "source": [
    "clf_log.score(train_set_ht_log, target)"
   ]
  },
  {
   "cell_type": "code",
   "execution_count": 18,
   "metadata": {
    "collapsed": false
   },
   "outputs": [
    {
     "data": {
      "text/plain": [
       "0.85427135678391963"
      ]
     },
     "execution_count": 18,
     "metadata": {},
     "output_type": "execute_result"
    }
   ],
   "source": [
    "clf_log.score(test_set_ht_log, test_target)"
   ]
  },
  {
   "cell_type": "markdown",
   "metadata": {},
   "source": [
    "Taking log of the height values didnt lead to any imporvement in accuracy (train = 84.65%, test = 85.43%)"
   ]
  },
  {
   "cell_type": "markdown",
   "metadata": {},
   "source": [
    "### 3. Get started with Support Vector Machines\n",
    "### a. Chosen a SVM implementation and specify which you choose. Be sure the implementation allows you to choose between linear and RBF kernels."
   ]
  },
  {
   "cell_type": "markdown",
   "metadata": {},
   "source": [
    "sklearn.svm.SVC"
   ]
  },
  {
   "cell_type": "markdown",
   "metadata": {},
   "source": [
    "### b. Use the same dataset from 2.b using the linear kernel to find training set prediction accuracy"
   ]
  },
  {
   "cell_type": "code",
   "execution_count": 19,
   "metadata": {
    "collapsed": false
   },
   "outputs": [
    {
     "data": {
      "text/plain": [
       "SVC(C=1.0, cache_size=200, class_weight=None, coef0=0.0,\n",
       "  decision_function_shape=None, degree=3, gamma='auto', kernel='linear',\n",
       "  max_iter=-1, probability=False, random_state=None, shrinking=True,\n",
       "  tol=0.001, verbose=False)"
      ]
     },
     "execution_count": 19,
     "metadata": {},
     "output_type": "execute_result"
    }
   ],
   "source": [
    "clf_svm_linear = svm.SVC(kernel='linear')\n",
    "clf_svm_linear.fit(train_set_ht_np, target)"
   ]
  },
  {
   "cell_type": "code",
   "execution_count": 20,
   "metadata": {
    "collapsed": false
   },
   "outputs": [
    {
     "data": {
      "text/plain": [
       "0.83396226415094343"
      ]
     },
     "execution_count": 20,
     "metadata": {},
     "output_type": "execute_result"
    }
   ],
   "source": [
    "clf_svm_linear.score(train_set_ht_np, target)"
   ]
  },
  {
   "cell_type": "markdown",
   "metadata": {},
   "source": [
    "The training set prediction accuracy is 83.40%"
   ]
  },
  {
   "cell_type": "markdown",
   "metadata": {},
   "source": [
    "### c. Use the same dataset from 2.b using the linear kernel to find test set prediction accuracy"
   ]
  },
  {
   "cell_type": "code",
   "execution_count": 21,
   "metadata": {
    "collapsed": false
   },
   "outputs": [
    {
     "data": {
      "text/plain": [
       "0.83165829145728642"
      ]
     },
     "execution_count": 21,
     "metadata": {},
     "output_type": "execute_result"
    }
   ],
   "source": [
    "clf_svm_linear.score(test_set_ht_np, test_target)"
   ]
  },
  {
   "cell_type": "markdown",
   "metadata": {},
   "source": [
    "The test set prediction accuracy is 83.17%"
   ]
  },
  {
   "cell_type": "markdown",
   "metadata": {},
   "source": [
    "### d. Use the same dataset from 2.b using the RBF kernel to find training set prediction accuracy"
   ]
  },
  {
   "cell_type": "code",
   "execution_count": 22,
   "metadata": {
    "collapsed": false
   },
   "outputs": [
    {
     "data": {
      "text/plain": [
       "SVC(C=1.0, cache_size=200, class_weight=None, coef0=0.0,\n",
       "  decision_function_shape=None, degree=3, gamma='auto', kernel='rbf',\n",
       "  max_iter=-1, probability=False, random_state=None, shrinking=True,\n",
       "  tol=0.001, verbose=False)"
      ]
     },
     "execution_count": 22,
     "metadata": {},
     "output_type": "execute_result"
    }
   ],
   "source": [
    "clf_svm_rbf = svm.SVC(kernel='rbf')\n",
    "clf_svm_rbf.fit(train_set_ht_np, target)"
   ]
  },
  {
   "cell_type": "code",
   "execution_count": 23,
   "metadata": {
    "collapsed": false
   },
   "outputs": [
    {
     "data": {
      "text/plain": [
       "0.84654088050314469"
      ]
     },
     "execution_count": 23,
     "metadata": {},
     "output_type": "execute_result"
    }
   ],
   "source": [
    "clf_svm_rbf.score(train_set_ht_np, target)"
   ]
  },
  {
   "cell_type": "markdown",
   "metadata": {},
   "source": [
    "The training set prediction accuracy is 84.65%"
   ]
  },
  {
   "cell_type": "markdown",
   "metadata": {},
   "source": [
    "### e. Use the same dataset from 2.b using the RBF kernel to find test set prediction accuracy"
   ]
  },
  {
   "cell_type": "code",
   "execution_count": 24,
   "metadata": {
    "collapsed": false
   },
   "outputs": [
    {
     "data": {
      "text/plain": [
       "0.85427135678391963"
      ]
     },
     "execution_count": 24,
     "metadata": {},
     "output_type": "execute_result"
    }
   ],
   "source": [
    "clf_svm_rbf.score(test_set_ht_np, test_target)"
   ]
  },
  {
   "cell_type": "markdown",
   "metadata": {},
   "source": [
    "The test set prediction accuracy is 85.43%"
   ]
  },
  {
   "cell_type": "markdown",
   "metadata": {},
   "source": [
    "### f. Use the same dataset from 2.d (log) using the RBF to find test set prediction accuracy"
   ]
  },
  {
   "cell_type": "code",
   "execution_count": 25,
   "metadata": {
    "collapsed": false
   },
   "outputs": [
    {
     "data": {
      "text/plain": [
       "SVC(C=1.0, cache_size=200, class_weight=None, coef0=0.0,\n",
       "  decision_function_shape=None, degree=3, gamma='auto', kernel='rbf',\n",
       "  max_iter=-1, probability=False, random_state=None, shrinking=True,\n",
       "  tol=0.001, verbose=False)"
      ]
     },
     "execution_count": 25,
     "metadata": {},
     "output_type": "execute_result"
    }
   ],
   "source": [
    "clf_svm_rbf_log = svm.SVC(kernel='rbf')\n",
    "clf_svm_rbf_log.fit(train_set_ht_log, target)"
   ]
  },
  {
   "cell_type": "code",
   "execution_count": 26,
   "metadata": {
    "collapsed": false
   },
   "outputs": [
    {
     "data": {
      "text/plain": [
       "0.83165829145728642"
      ]
     },
     "execution_count": 26,
     "metadata": {},
     "output_type": "execute_result"
    }
   ],
   "source": [
    "clf_svm_rbf_log.score(test_set_ht_log, test_target)"
   ]
  },
  {
   "cell_type": "markdown",
   "metadata": {},
   "source": [
    "The test set preduction accuracy using log of height feature is 83.17%"
   ]
  },
  {
   "cell_type": "markdown",
   "metadata": {},
   "source": [
    "### g. Z-score is a normalization technique. It is the value of a feature minus the average value for that feature in the training set, divided by the standard deviation of that feature in the training set. Repeat question 3.f using Z-score and note if there is any difference in accuracy and comment on why there is a change or no change in accuracy"
   ]
  },
  {
   "cell_type": "code",
   "execution_count": 27,
   "metadata": {
    "collapsed": false
   },
   "outputs": [
    {
     "name": "stderr",
     "output_type": "stream",
     "text": [
      "/Users/rohitraghavan/anaconda/lib/python3.5/site-packages/ipykernel/__main__.py:2: FutureWarning: reshape is deprecated and will raise in a subsequent release. Please use .values.reshape(...) instead\n",
      "  from ipykernel import kernelapp as app\n",
      "/Users/rohitraghavan/anaconda/lib/python3.5/site-packages/sklearn/utils/validation.py:429: DataConversionWarning: Data with input dtype int64 was converted to float64 by StandardScaler.\n",
      "  warnings.warn(msg, _DataConversionWarning)\n",
      "/Users/rohitraghavan/anaconda/lib/python3.5/site-packages/ipykernel/__main__.py:3: FutureWarning: reshape is deprecated and will raise in a subsequent release. Please use .values.reshape(...) instead\n",
      "  app.launch_new_instance()\n"
     ]
    }
   ],
   "source": [
    "z_scaler = preprocessing.StandardScaler()\n",
    "train_set_ht_z_scaler = z_scaler.fit_transform(train_set.height.reshape(1590,1))\n",
    "test_set_ht_z_scaler = z_scaler.transform(test_set.height.reshape(398,1))"
   ]
  },
  {
   "cell_type": "code",
   "execution_count": 28,
   "metadata": {
    "collapsed": false
   },
   "outputs": [
    {
     "data": {
      "text/plain": [
       "SVC(C=1.0, cache_size=200, class_weight=None, coef0=0.0,\n",
       "  decision_function_shape=None, degree=3, gamma='auto', kernel='rbf',\n",
       "  max_iter=-1, probability=False, random_state=None, shrinking=True,\n",
       "  tol=0.001, verbose=False)"
      ]
     },
     "execution_count": 28,
     "metadata": {},
     "output_type": "execute_result"
    }
   ],
   "source": [
    "clf_svm_rbf_scalar = svm.SVC(kernel='rbf')\n",
    "clf_svm_rbf_scalar.fit(train_set_ht_z_scaler, target)"
   ]
  },
  {
   "cell_type": "code",
   "execution_count": 29,
   "metadata": {
    "collapsed": false
   },
   "outputs": [
    {
     "data": {
      "text/plain": [
       "0.85427135678391963"
      ]
     },
     "execution_count": 29,
     "metadata": {},
     "output_type": "execute_result"
    }
   ],
   "source": [
    "clf_svm_rbf_scalar.score(test_set_ht_z_scaler, test_target)"
   ]
  },
  {
   "cell_type": "markdown",
   "metadata": {},
   "source": [
    "The test set prediction accuracy using z scaled values is 85.43% This is the same prediction accuracy as when using the actual height values (85.43%)"
   ]
  },
  {
   "cell_type": "markdown",
   "metadata": {},
   "source": [
    "### 4. The rest of features in this dataset barring a few are categorical. Neither ML method accepts categorical features, so transform year, eyecolor, exercise into a set of binary features, one feature per unique original feature value, and mark the binary feature as ‘1’ if the feature value matches the original value and ‘0’ otherwise. Using only these binary variable transformed features, train and predict the class of the test set."
   ]
  },
  {
   "cell_type": "code",
   "execution_count": 30,
   "metadata": {
    "collapsed": false
   },
   "outputs": [
    {
     "data": {
      "text/plain": [
       "['exercise=No',\n",
       " 'exercise=Yes',\n",
       " 'eyecolor=blue',\n",
       " 'eyecolor=brown',\n",
       " 'eyecolor=green',\n",
       " 'eyecolor=hazel',\n",
       " 'eyecolor=other',\n",
       " 'year=first',\n",
       " 'year=fourth',\n",
       " 'year=other',\n",
       " 'year=second',\n",
       " 'year=third']"
      ]
     },
     "execution_count": 30,
     "metadata": {},
     "output_type": "execute_result"
    }
   ],
   "source": [
    "vec = DictVectorizer()\n",
    "train_set_exercise_eyec_year = vec.fit_transform(train_set[['year','eyecolor','exercise']].to_dict('records')).toarray()\n",
    "test_set_exercise_eyec_year = vec.transform(test_set[['year','eyecolor','exercise']].to_dict('records')).toarray()\n",
    "vec.feature_names_"
   ]
  },
  {
   "cell_type": "markdown",
   "metadata": {},
   "source": [
    "### a. What was your accuracy using Neural Network with a single 10 node hidden layer? During training, use a maximum number of iterations of 50."
   ]
  },
  {
   "cell_type": "code",
   "execution_count": 31,
   "metadata": {
    "collapsed": false
   },
   "outputs": [
    {
     "data": {
      "text/plain": [
       "MLPClassifier(activation='logistic', alpha=0.0001, batch_size='auto',\n",
       "       beta_1=0.9, beta_2=0.999, early_stopping=False, epsilon=1e-08,\n",
       "       hidden_layer_sizes=(10,), learning_rate='constant',\n",
       "       learning_rate_init=0.001, max_iter=50, momentum=0.9,\n",
       "       nesterovs_momentum=True, power_t=0.5, random_state=None,\n",
       "       shuffle=True, solver='lbfgs', tol=0.0001, validation_fraction=0.1,\n",
       "       verbose=False, warm_start=False)"
      ]
     },
     "execution_count": 31,
     "metadata": {},
     "output_type": "execute_result"
    }
   ],
   "source": [
    "clf_eey = MLPClassifier(solver='lbfgs', activation='logistic', hidden_layer_sizes=(10,), max_iter=50)\n",
    "clf_eey.fit(train_set_exercise_eyec_year, target)"
   ]
  },
  {
   "cell_type": "code",
   "execution_count": 32,
   "metadata": {
    "collapsed": false
   },
   "outputs": [
    {
     "data": {
      "text/plain": [
       "0.57788944723618085"
      ]
     },
     "execution_count": 32,
     "metadata": {},
     "output_type": "execute_result"
    }
   ],
   "source": [
    "clf_eey.score(test_set_exercise_eyec_year, test_target)"
   ]
  },
  {
   "cell_type": "markdown",
   "metadata": {},
   "source": [
    "The test set prediction accuracy is 59.30%"
   ]
  },
  {
   "cell_type": "markdown",
   "metadata": {},
   "source": [
    "### b. What was your accuracy using a SVM with RBF kernel?"
   ]
  },
  {
   "cell_type": "code",
   "execution_count": 33,
   "metadata": {
    "collapsed": false
   },
   "outputs": [
    {
     "data": {
      "text/plain": [
       "SVC(C=1.0, cache_size=200, class_weight=None, coef0=0.0,\n",
       "  decision_function_shape=None, degree=3, gamma='auto', kernel='rbf',\n",
       "  max_iter=-1, probability=False, random_state=None, shrinking=True,\n",
       "  tol=0.001, verbose=False)"
      ]
     },
     "execution_count": 33,
     "metadata": {},
     "output_type": "execute_result"
    }
   ],
   "source": [
    "clf_svm_rbf_eey = svm.SVC(kernel='rbf')\n",
    "clf_svm_rbf_eey.fit(train_set_exercise_eyec_year, target)"
   ]
  },
  {
   "cell_type": "code",
   "execution_count": 34,
   "metadata": {
    "collapsed": false
   },
   "outputs": [
    {
     "data": {
      "text/plain": [
       "0.585427135678392"
      ]
     },
     "execution_count": 34,
     "metadata": {},
     "output_type": "execute_result"
    }
   ],
   "source": [
    "clf_svm_rbf_eey.score(test_set_exercise_eyec_year, test_target)"
   ]
  },
  {
   "cell_type": "markdown",
   "metadata": {},
   "source": [
    "The test set prediction accuracy is 58.54%"
   ]
  },
  {
   "cell_type": "markdown",
   "metadata": {},
   "source": [
    "### 5. Using a NN, does height + eye color predict the test set class better by\n",
    "### a. Keeping the original feature values"
   ]
  },
  {
   "cell_type": "code",
   "execution_count": 35,
   "metadata": {
    "collapsed": false
   },
   "outputs": [
    {
     "data": {
      "text/plain": [
       "['eyecolor=blue',\n",
       " 'eyecolor=brown',\n",
       " 'eyecolor=green',\n",
       " 'eyecolor=hazel',\n",
       " 'eyecolor=other',\n",
       " 'height']"
      ]
     },
     "execution_count": 35,
     "metadata": {},
     "output_type": "execute_result"
    }
   ],
   "source": [
    "vec = DictVectorizer()\n",
    "train_set_eyec = vec.fit_transform(train_set[['height','eyecolor']].to_dict('records')).toarray()\n",
    "test_set_eyec = vec.fit_transform(test_set[['height','eyecolor']].to_dict('records')).toarray()\n",
    "vec.feature_names_"
   ]
  },
  {
   "cell_type": "code",
   "execution_count": 36,
   "metadata": {
    "collapsed": false
   },
   "outputs": [
    {
     "data": {
      "text/plain": [
       "MLPClassifier(activation='logistic', alpha=0.0001, batch_size='auto',\n",
       "       beta_1=0.9, beta_2=0.999, early_stopping=False, epsilon=1e-08,\n",
       "       hidden_layer_sizes=(10,), learning_rate='constant',\n",
       "       learning_rate_init=0.001, max_iter=200, momentum=0.9,\n",
       "       nesterovs_momentum=True, power_t=0.5, random_state=None,\n",
       "       shuffle=True, solver='lbfgs', tol=0.0001, validation_fraction=0.1,\n",
       "       verbose=False, warm_start=False)"
      ]
     },
     "execution_count": 36,
     "metadata": {},
     "output_type": "execute_result"
    }
   ],
   "source": [
    "clf_eh = MLPClassifier(solver='lbfgs', activation='logistic', hidden_layer_sizes=(10,))\n",
    "clf_eh.fit(train_set_eyec, target)"
   ]
  },
  {
   "cell_type": "code",
   "execution_count": 37,
   "metadata": {
    "collapsed": false
   },
   "outputs": [
    {
     "data": {
      "text/plain": [
       "0.85929648241206025"
      ]
     },
     "execution_count": 37,
     "metadata": {},
     "output_type": "execute_result"
    }
   ],
   "source": [
    "clf_eh.score(test_set_eyec, test_target)"
   ]
  },
  {
   "cell_type": "markdown",
   "metadata": {},
   "source": [
    "Yes. The test set prediction accuracy increases significantly to 85.93%"
   ]
  },
  {
   "cell_type": "markdown",
   "metadata": {},
   "source": [
    "### b. taking the log of the original values"
   ]
  },
  {
   "cell_type": "code",
   "execution_count": 38,
   "metadata": {
    "collapsed": false
   },
   "outputs": [],
   "source": [
    "train_set_eyec_log = np.append(train_set_eyec[:,:5],np.reshape(np.log10(train_set_eyec[:,5]),(1590,1)),axis=1)\n",
    "test_set_eyec_log = np.append(test_set_eyec[:,:5],np.reshape(np.log10(test_set_eyec[:,5]),(398,1)),axis=1)"
   ]
  },
  {
   "cell_type": "code",
   "execution_count": 39,
   "metadata": {
    "collapsed": false
   },
   "outputs": [
    {
     "data": {
      "text/plain": [
       "MLPClassifier(activation='logistic', alpha=0.0001, batch_size='auto',\n",
       "       beta_1=0.9, beta_2=0.999, early_stopping=False, epsilon=1e-08,\n",
       "       hidden_layer_sizes=(10,), learning_rate='constant',\n",
       "       learning_rate_init=0.001, max_iter=200, momentum=0.9,\n",
       "       nesterovs_momentum=True, power_t=0.5, random_state=None,\n",
       "       shuffle=True, solver='lbfgs', tol=0.0001, validation_fraction=0.1,\n",
       "       verbose=False, warm_start=False)"
      ]
     },
     "execution_count": 39,
     "metadata": {},
     "output_type": "execute_result"
    }
   ],
   "source": [
    "clf_eh_log = MLPClassifier(solver='lbfgs', activation='logistic', hidden_layer_sizes=(10,))\n",
    "clf_eh_log.fit(train_set_eyec_log, target)"
   ]
  },
  {
   "cell_type": "code",
   "execution_count": 40,
   "metadata": {
    "collapsed": false
   },
   "outputs": [
    {
     "data": {
      "text/plain": [
       "0.85929648241206025"
      ]
     },
     "execution_count": 40,
     "metadata": {},
     "output_type": "execute_result"
    }
   ],
   "source": [
    "clf_eh_log.score(test_set_eyec_log, test_target)"
   ]
  },
  {
   "cell_type": "markdown",
   "metadata": {},
   "source": [
    "The test set prediction accuracy as compared to normal height values remains the same (85.92%)"
   ]
  },
  {
   "cell_type": "markdown",
   "metadata": {},
   "source": [
    "### c. taking the Z-score of the original values"
   ]
  },
  {
   "cell_type": "code",
   "execution_count": 41,
   "metadata": {
    "collapsed": true
   },
   "outputs": [],
   "source": [
    "z_scaler = preprocessing.StandardScaler()\n",
    "train_set_eyec_z_scaler = np.append(train_set_eyec[:,:5], z_scaler.fit_transform(np.reshape(train_set_eyec[:,5],(1590,1))),axis=1)\n",
    "test_set_eyec_z_scaler = np.append(test_set_eyec[:,:5], z_scaler.fit_transform(np.reshape(test_set_eyec[:,5],(398,1))),axis=1)\n"
   ]
  },
  {
   "cell_type": "code",
   "execution_count": 42,
   "metadata": {
    "collapsed": false
   },
   "outputs": [
    {
     "data": {
      "text/plain": [
       "MLPClassifier(activation='logistic', alpha=0.0001, batch_size='auto',\n",
       "       beta_1=0.9, beta_2=0.999, early_stopping=False, epsilon=1e-08,\n",
       "       hidden_layer_sizes=(10,), learning_rate='constant',\n",
       "       learning_rate_init=0.001, max_iter=200, momentum=0.9,\n",
       "       nesterovs_momentum=True, power_t=0.5, random_state=None,\n",
       "       shuffle=True, solver='lbfgs', tol=0.0001, validation_fraction=0.1,\n",
       "       verbose=False, warm_start=False)"
      ]
     },
     "execution_count": 42,
     "metadata": {},
     "output_type": "execute_result"
    }
   ],
   "source": [
    "clf_eh_z_scaler = MLPClassifier(solver='lbfgs', activation='logistic', hidden_layer_sizes=(10,))\n",
    "clf_eh_z_scaler.fit(train_set_eyec_z_scaler, target)"
   ]
  },
  {
   "cell_type": "code",
   "execution_count": 43,
   "metadata": {
    "collapsed": false
   },
   "outputs": [
    {
     "data": {
      "text/plain": [
       "0.8693467336683417"
      ]
     },
     "execution_count": 43,
     "metadata": {},
     "output_type": "execute_result"
    }
   ],
   "source": [
    "clf_eh_z_scaler.score(test_set_eyec_z_scaler, test_target)"
   ]
  },
  {
   "cell_type": "markdown",
   "metadata": {},
   "source": [
    "The test set prediction accuracy as compared to normal height values increases to 87.16%"
   ]
  },
  {
   "cell_type": "markdown",
   "metadata": {},
   "source": [
    "### 6. Repeat question 5 for exercise hours + eye color"
   ]
  },
  {
   "cell_type": "code",
   "execution_count": 44,
   "metadata": {
    "collapsed": false
   },
   "outputs": [
    {
     "data": {
      "text/plain": [
       "['exercisehours',\n",
       " 'eyecolor=blue',\n",
       " 'eyecolor=brown',\n",
       " 'eyecolor=green',\n",
       " 'eyecolor=hazel',\n",
       " 'eyecolor=other']"
      ]
     },
     "execution_count": 44,
     "metadata": {},
     "output_type": "execute_result"
    }
   ],
   "source": [
    "vec = DictVectorizer()\n",
    "train_set_eyeceh = vec.fit_transform(train_set[['eyecolor', 'exercisehours']].to_dict('records')).toarray()\n",
    "test_set_eyeceh = vec.fit_transform(test_set[['eyecolor', 'exercisehours']].to_dict('records')).toarray()\n",
    "vec.feature_names_"
   ]
  },
  {
   "cell_type": "code",
   "execution_count": 45,
   "metadata": {
    "collapsed": false,
    "scrolled": true
   },
   "outputs": [
    {
     "data": {
      "text/plain": [
       "MLPClassifier(activation='logistic', alpha=0.0001, batch_size='auto',\n",
       "       beta_1=0.9, beta_2=0.999, early_stopping=False, epsilon=1e-08,\n",
       "       hidden_layer_sizes=(10,), learning_rate='constant',\n",
       "       learning_rate_init=0.001, max_iter=200, momentum=0.9,\n",
       "       nesterovs_momentum=True, power_t=0.5, random_state=None,\n",
       "       shuffle=True, solver='lbfgs', tol=0.0001, validation_fraction=0.1,\n",
       "       verbose=False, warm_start=False)"
      ]
     },
     "execution_count": 45,
     "metadata": {},
     "output_type": "execute_result"
    }
   ],
   "source": [
    "clf_ee = MLPClassifier(solver='lbfgs', activation='logistic', hidden_layer_sizes=(10,))\n",
    "clf_ee.fit(train_set_eyeceh, target)"
   ]
  },
  {
   "cell_type": "code",
   "execution_count": 46,
   "metadata": {
    "collapsed": false
   },
   "outputs": [
    {
     "data": {
      "text/plain": [
       "0.52261306532663321"
      ]
     },
     "execution_count": 46,
     "metadata": {},
     "output_type": "execute_result"
    }
   ],
   "source": [
    "clf_eh.score(test_set_eyeceh, test_target)"
   ]
  },
  {
   "cell_type": "markdown",
   "metadata": {},
   "source": [
    "The test set prediction accuracy is 52.26%"
   ]
  },
  {
   "cell_type": "code",
   "execution_count": 47,
   "metadata": {
    "collapsed": false
   },
   "outputs": [
    {
     "name": "stderr",
     "output_type": "stream",
     "text": [
      "/Users/rohitraghavan/anaconda/lib/python3.5/site-packages/ipykernel/__main__.py:1: RuntimeWarning: divide by zero encountered in log10\n",
      "  if __name__ == '__main__':\n",
      "/Users/rohitraghavan/anaconda/lib/python3.5/site-packages/ipykernel/__main__.py:2: RuntimeWarning: divide by zero encountered in log10\n",
      "  from ipykernel import kernelapp as app\n"
     ]
    }
   ],
   "source": [
    "train_set_eyeceh_log = np.append(train_set_eyeceh[:,1:],np.reshape(np.log10(train_set_eyec[:,0]),(1590,1)),axis=1)\n",
    "test_set_eyeceh_log = np.append(test_set_eyeceh[:,1:],np.reshape(np.log10(test_set_eyec[:,0]),(398,1)),axis=1)\n",
    "#Fix -inf values\n",
    "train_set_eyeceh_log[train_set_eyeceh_log==-np.inf] = -999\n",
    "test_set_eyeceh_log[test_set_eyeceh_log==-np.inf]= -999"
   ]
  },
  {
   "cell_type": "code",
   "execution_count": 48,
   "metadata": {
    "collapsed": false
   },
   "outputs": [
    {
     "data": {
      "text/plain": [
       "MLPClassifier(activation='logistic', alpha=0.0001, batch_size='auto',\n",
       "       beta_1=0.9, beta_2=0.999, early_stopping=False, epsilon=1e-08,\n",
       "       hidden_layer_sizes=(10,), learning_rate='constant',\n",
       "       learning_rate_init=0.001, max_iter=200, momentum=0.9,\n",
       "       nesterovs_momentum=True, power_t=0.5, random_state=None,\n",
       "       shuffle=True, solver='lbfgs', tol=0.0001, validation_fraction=0.1,\n",
       "       verbose=False, warm_start=False)"
      ]
     },
     "execution_count": 48,
     "metadata": {},
     "output_type": "execute_result"
    }
   ],
   "source": [
    "clf_eh_log = MLPClassifier(solver='lbfgs', activation='logistic', hidden_layer_sizes=(10,))\n",
    "clf_eh_log.fit(train_set_eyeceh_log, target)"
   ]
  },
  {
   "cell_type": "code",
   "execution_count": 49,
   "metadata": {
    "collapsed": false
   },
   "outputs": [
    {
     "data": {
      "text/plain": [
       "0.52261306532663321"
      ]
     },
     "execution_count": 49,
     "metadata": {},
     "output_type": "execute_result"
    }
   ],
   "source": [
    "clf_eh_log.score(test_set_eyeceh_log, test_target)"
   ]
  },
  {
   "cell_type": "markdown",
   "metadata": {},
   "source": [
    "The test set prediction accuracy remains the same 52.26%"
   ]
  },
  {
   "cell_type": "code",
   "execution_count": 50,
   "metadata": {
    "collapsed": false
   },
   "outputs": [],
   "source": [
    "z_scaler = preprocessing.StandardScaler()\n",
    "train_set_eyeceh_z_scaler = np.append(train_set_eyeceh[:,1:], z_scaler.fit_transform(np.reshape(train_set_eyeceh[:,0],(1590,1))),axis=1)\n",
    "test_set_eyeceh_z_scaler = np.append(test_set_eyeceh[:,1:], z_scaler.fit_transform(np.reshape(test_set_eyeceh[:,0],(398,1))),axis=1)\n"
   ]
  },
  {
   "cell_type": "code",
   "execution_count": 51,
   "metadata": {
    "collapsed": false
   },
   "outputs": [
    {
     "data": {
      "text/plain": [
       "MLPClassifier(activation='logistic', alpha=0.0001, batch_size='auto',\n",
       "       beta_1=0.9, beta_2=0.999, early_stopping=False, epsilon=1e-08,\n",
       "       hidden_layer_sizes=(10,), learning_rate='constant',\n",
       "       learning_rate_init=0.001, max_iter=200, momentum=0.9,\n",
       "       nesterovs_momentum=True, power_t=0.5, random_state=None,\n",
       "       shuffle=True, solver='lbfgs', tol=0.0001, validation_fraction=0.1,\n",
       "       verbose=False, warm_start=False)"
      ]
     },
     "execution_count": 51,
     "metadata": {},
     "output_type": "execute_result"
    }
   ],
   "source": [
    "clf_eh_z_scaler = MLPClassifier(solver='lbfgs', activation='logistic', hidden_layer_sizes=(10,))\n",
    "clf_eh_z_scaler.fit(train_set_eyeceh_z_scaler, target)"
   ]
  },
  {
   "cell_type": "code",
   "execution_count": 52,
   "metadata": {
    "collapsed": false
   },
   "outputs": [
    {
     "data": {
      "text/plain": [
       "0.59798994974874375"
      ]
     },
     "execution_count": 52,
     "metadata": {},
     "output_type": "execute_result"
    }
   ],
   "source": [
    "clf_eh_z_scaler.score(test_set_eyeceh_z_scaler, test_target)"
   ]
  },
  {
   "cell_type": "markdown",
   "metadata": {},
   "source": [
    "The test set prediction accuracy increases to 59.30%"
   ]
  },
  {
   "cell_type": "markdown",
   "metadata": {},
   "source": [
    "### 7. Combine the features from question 4, 5, and exercise hours from question 6 (using the best normalization feature set form questions 5 and 6)"
   ]
  },
  {
   "cell_type": "code",
   "execution_count": 53,
   "metadata": {
    "collapsed": false
   },
   "outputs": [
    {
     "name": "stderr",
     "output_type": "stream",
     "text": [
      "/Users/rohitraghavan/anaconda/lib/python3.5/site-packages/numpy/core/fromnumeric.py:224: FutureWarning: reshape is deprecated and will raise in a subsequent release. Please use .values.reshape(...) instead\n",
      "  return reshape(newshape, order=order)\n",
      "/Users/rohitraghavan/anaconda/lib/python3.5/site-packages/sklearn/utils/validation.py:429: DataConversionWarning: Data with input dtype int64 was converted to float64 by StandardScaler.\n",
      "  warnings.warn(msg, _DataConversionWarning)\n"
     ]
    }
   ],
   "source": [
    "train_set_exercise_eyec_year_ht_eh = np.concatenate((train_set_exercise_eyec_year,z_scaler.fit_transform(np.reshape(train_set.height,(1590,1))),z_scaler.fit_transform(np.reshape(train_set.exercisehours,(1590,1)))),axis=1) \n",
    "test_set_exercise_eyec_year_ht_eh = np.concatenate((test_set_exercise_eyec_year,z_scaler.fit_transform(np.reshape(test_set.height,(398,1))),z_scaler.fit_transform(np.reshape(test_set.exercisehours,(398,1)))),axis=1) \n",
    "#Fix -inf values\n",
    "train_set_exercise_eyec_year_ht_eh[train_set_exercise_eyec_year_ht_eh==-np.inf] = -999\n",
    "test_set_exercise_eyec_year_ht_eh[test_set_exercise_eyec_year_ht_eh==-np.inf]= -999"
   ]
  },
  {
   "cell_type": "markdown",
   "metadata": {},
   "source": [
    "### a. What was the NN accuracy on the test set using the single 10 node hidden layer?"
   ]
  },
  {
   "cell_type": "code",
   "execution_count": 54,
   "metadata": {
    "collapsed": false
   },
   "outputs": [
    {
     "data": {
      "text/plain": [
       "0.89447236180904521"
      ]
     },
     "execution_count": 54,
     "metadata": {},
     "output_type": "execute_result"
    }
   ],
   "source": [
    "clf_comb = MLPClassifier(solver='lbfgs', activation='logistic', hidden_layer_sizes=(10,))\n",
    "clf_comb.fit(train_set_exercise_eyec_year_ht_eh, target)\n",
    "clf_comb.score(test_set_exercise_eyec_year_ht_eh, test_target)"
   ]
  },
  {
   "cell_type": "markdown",
   "metadata": {},
   "source": [
    "The test set prediction accuracy is 88.69%"
   ]
  },
  {
   "cell_type": "markdown",
   "metadata": {},
   "source": [
    "### b. What was the SVM accuracy on the test set the RBF kernel?"
   ]
  },
  {
   "cell_type": "code",
   "execution_count": 55,
   "metadata": {
    "collapsed": false
   },
   "outputs": [
    {
     "data": {
      "text/plain": [
       "0.86683417085427139"
      ]
     },
     "execution_count": 55,
     "metadata": {},
     "output_type": "execute_result"
    }
   ],
   "source": [
    "clf_comb2 = svm.SVC(kernel='rbf')\n",
    "clf_comb2.fit(train_set_exercise_eyec_year_ht_eh, target)\n",
    "clf_comb2.score(test_set_exercise_eyec_year_ht_eh, test_target)"
   ]
  },
  {
   "cell_type": "markdown",
   "metadata": {},
   "source": [
    "The test set prediction accuracy is 86.68%"
   ]
  },
  {
   "cell_type": "markdown",
   "metadata": {},
   "source": [
    "### 8. Can you improve your test set prediction accuracy by 5% or more?\n",
    "### a. What was your best accuracy on the test set using the training set as your holdout? (for this question the training set is used for training AND testing)"
   ]
  },
  {
   "cell_type": "code",
   "execution_count": 56,
   "metadata": {
    "collapsed": false
   },
   "outputs": [
    {
     "name": "stdout",
     "output_type": "stream",
     "text": [
      "0.939622641509 6 3\n"
     ]
    }
   ],
   "source": [
    "# C_range = np.logspace(-2, 10, 4)\n",
    "# gamma_range = np.logspace(-9, 3, 4)\n",
    "C_range = range(-5, 16)\n",
    "gamma_range = range(-15, 4)\n",
    "best_score = 0\n",
    "best_C = 0\n",
    "best_gamma = 0\n",
    "best_model = svm.SVC(kernel='rbf')\n",
    "for C in C_range:\n",
    "    for gamma in gamma_range:\n",
    "        clf_best1 = svm.SVC(kernel='rbf', C=2**C, gamma=2**gamma)\n",
    "        clf_best1.fit(train_set_exercise_eyec_year_ht_eh, target)\n",
    "        score = clf_best1.score(train_set_exercise_eyec_year_ht_eh, target)\n",
    "        if best_score < score:\n",
    "            best_score = score\n",
    "            best_C = C\n",
    "            best_gamma = gamma\n",
    "            best_model = clf_best1\n",
    "print(best_score, best_C, best_gamma)"
   ]
  },
  {
   "cell_type": "code",
   "execution_count": 58,
   "metadata": {
    "collapsed": false
   },
   "outputs": [
    {
     "data": {
      "text/plain": [
       "0.9346733668341709"
      ]
     },
     "execution_count": 58,
     "metadata": {},
     "output_type": "execute_result"
    }
   ],
   "source": [
    "best_model.score(test_set_exercise_eyec_year_ht_eh, test_target)"
   ]
  },
  {
   "cell_type": "code",
   "execution_count": 57,
   "metadata": {
    "collapsed": false
   },
   "outputs": [
    {
     "data": {
      "text/plain": [
       "0.9346733668341709"
      ]
     },
     "execution_count": 57,
     "metadata": {},
     "output_type": "execute_result"
    }
   ],
   "source": [
    "clf_best1 = svm.SVC(kernel='rbf', C=2**best_C, gamma=2**best_gamma)\n",
    "clf_best1.fit(train_set_exercise_eyec_year_ht_eh, target)\n",
    "clf_best1.score(test_set_exercise_eyec_year_ht_eh, test_target)"
   ]
  },
  {
   "cell_type": "markdown",
   "metadata": {},
   "source": [
    "The best accuracy on the training set was 93.47%. On testing on the test set, the accuracy was 93.47"
   ]
  },
  {
   "cell_type": "markdown",
   "metadata": {},
   "source": [
    "### b. What was your best accuracy on the test set using a 70% train 30% holdout?"
   ]
  },
  {
   "cell_type": "code",
   "execution_count": 59,
   "metadata": {
    "collapsed": false
   },
   "outputs": [
    {
     "name": "stdout",
     "output_type": "stream",
     "text": [
      "0.82180293501 -1 -6\n"
     ]
    }
   ],
   "source": [
    "train_set_exercise_eyec_year_ht_eh \n",
    "train_split_train, train_split_holdout, target_train_split_train, target_train_split_holdout = train_test_split(train_set_exercise_eyec_year_ht_eh, target, test_size=0.30, random_state=42)\n",
    "best_score = 0\n",
    "best_C = 0\n",
    "best_gamma = 0\n",
    "best_model = svm.SVC(kernel='rbf')\n",
    "for C in C_range:\n",
    "    for gamma in gamma_range:\n",
    "        clf_best2 = svm.SVC(kernel='rbf', C=2**C, gamma=2**gamma)\n",
    "        clf_best2.fit(train_split_train, target_train_split_train)\n",
    "        score = clf_best2.score(train_split_holdout, target_train_split_holdout)\n",
    "        if best_score < score:\n",
    "            best_score = score\n",
    "            best_C = C\n",
    "            best_gamma = gamma\n",
    "            best_model = clf_best2\n",
    "print(best_score, best_C, best_gamma)"
   ]
  },
  {
   "cell_type": "code",
   "execution_count": 61,
   "metadata": {
    "collapsed": false
   },
   "outputs": [
    {
     "data": {
      "text/plain": [
       "0.85678391959798994"
      ]
     },
     "execution_count": 61,
     "metadata": {},
     "output_type": "execute_result"
    }
   ],
   "source": [
    "best_model.score(test_set_exercise_eyec_year_ht_eh, test_target)"
   ]
  },
  {
   "cell_type": "code",
   "execution_count": 60,
   "metadata": {
    "collapsed": false
   },
   "outputs": [
    {
     "data": {
      "text/plain": [
       "0.85678391959798994"
      ]
     },
     "execution_count": 60,
     "metadata": {},
     "output_type": "execute_result"
    }
   ],
   "source": [
    "clf_best2 = svm.SVC(kernel='rbf', C=2**best_C, gamma=2**best_gamma)\n",
    "clf_best2.fit(train_set_exercise_eyec_year_ht_eh, target)\n",
    "clf_best2.score(test_set_exercise_eyec_year_ht_eh, test_target)"
   ]
  },
  {
   "cell_type": "markdown",
   "metadata": {},
   "source": [
    "The best accuracy on validation set was 82.18%. On testing on the test set, the accuracy was 85.68%"
   ]
  },
  {
   "cell_type": "markdown",
   "metadata": {},
   "source": [
    "### c. Finally, what was your best accuracy on the test set using 5-fold cross validation?"
   ]
  },
  {
   "cell_type": "code",
   "execution_count": 62,
   "metadata": {
    "collapsed": false
   },
   "outputs": [
    {
     "name": "stdout",
     "output_type": "stream",
     "text": [
      "0.853459119497 0 -8\n"
     ]
    }
   ],
   "source": [
    "best_score = 0\n",
    "best_C = 0\n",
    "best_gamma = 0\n",
    "best_model = svm.SVC(kernel='rbf')\n",
    "for C in C_range:\n",
    "    for gamma in gamma_range:\n",
    "        clf_best3 = svm.SVC(kernel='rbf', C=2**C, gamma=2**gamma)\n",
    "        scores = cross_val_score(clf_best3, train_set_exercise_eyec_year_ht_eh, target, cv=5)\n",
    "        score = scores.mean()\n",
    "        if best_score < score:\n",
    "            best_score = score\n",
    "            best_C = C\n",
    "            best_gamma = gamma\n",
    "            best_model = clf_best3\n",
    "print(best_score, best_C, best_gamma)"
   ]
  },
  {
   "cell_type": "code",
   "execution_count": 63,
   "metadata": {
    "collapsed": false
   },
   "outputs": [
    {
     "data": {
      "text/plain": [
       "0.86180904522613067"
      ]
     },
     "execution_count": 63,
     "metadata": {},
     "output_type": "execute_result"
    }
   ],
   "source": [
    "clf_best3 = svm.SVC(kernel='rbf', C=2**best_C, gamma=2**best_gamma)\n",
    "clf_best3.fit(train_set_exercise_eyec_year_ht_eh, target)\n",
    "clf_best3.score(test_set_exercise_eyec_year_ht_eh, test_target)"
   ]
  },
  {
   "cell_type": "markdown",
   "metadata": {},
   "source": [
    "The best accuracy using K-fold cross validation was 86.18%"
   ]
  },
  {
   "cell_type": "code",
   "execution_count": 65,
   "metadata": {
    "collapsed": true
   },
   "outputs": [],
   "source": [
    "predictor = clf_best3.predict(train_set_exercise_eyec_year_ht_eh)\n",
    "pd.DataFrame(predictor).to_csv(\"cv_predictions.txt\", index =False)"
   ]
  },
  {
   "cell_type": "code",
   "execution_count": 66,
   "metadata": {
    "collapsed": true
   },
   "outputs": [],
   "source": [
    "predictor_test = clf_best3.predict(test_set_exercise_eyec_year_ht_eh)\n",
    "pd.DataFrame(predictor_test).to_csv(\"test_set_prediction.txt\", index =False)"
   ]
  },
  {
   "cell_type": "code",
   "execution_count": null,
   "metadata": {
    "collapsed": true
   },
   "outputs": [],
   "source": []
  }
 ],
 "metadata": {
  "kernelspec": {
   "display_name": "Python [conda root]",
   "language": "python",
   "name": "conda-root-py"
  },
  "language_info": {
   "codemirror_mode": {
    "name": "ipython",
    "version": 3
   },
   "file_extension": ".py",
   "mimetype": "text/x-python",
   "name": "python",
   "nbconvert_exporter": "python",
   "pygments_lexer": "ipython3",
   "version": "3.5.2"
  }
 },
 "nbformat": 4,
 "nbformat_minor": 2
}
